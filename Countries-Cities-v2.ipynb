{
 "cells": [
  {
   "cell_type": "code",
   "execution_count": 282,
   "id": "1a99b5f3",
   "metadata": {},
   "outputs": [],
   "source": [
    "# Инициируем сессию\n",
    "from pyspark.sql import SparkSession\n",
    "\n",
    "spark = (SparkSession.builder\n",
    ".master(\"local[*]\")\n",
    ".appName('PySpark_Tutorial')\n",
    ".getOrCreate()\n",
    ")"
   ]
  },
  {
   "cell_type": "code",
   "execution_count": 283,
   "id": "0bc182fa",
   "metadata": {},
   "outputs": [],
   "source": [
    "# Читаем JSON файл со странами\n",
    "countries_json_file = '../Countries-Cities/world_population.json'\n",
    "df_countries = spark.read.option('header', True).json(countries_json_file)"
   ]
  },
  {
   "cell_type": "code",
   "execution_count": 284,
   "id": "5a339dbf",
   "metadata": {},
   "outputs": [],
   "source": [
    "# Читаем CSV файл с городами\n",
    "cities_csv_file = '../Countries-Cities/world_cities.csv'\n",
    "df_cities = spark.read.csv(cities_csv_file, header=True, sep=\";\")\n",
    "\n",
    "df_cities = df_cities.select(\n",
    "    f.trim(f.col(\"city_ascii\")).alias(\"city\"),\n",
    "    f.expr(\"lat\").cast(\"decimal(10,4)\").alias(\"lat\"),\n",
    "    f.expr(\"lng\").cast(\"decimal(10,4)\").alias(\"lng\"),\n",
    "    f.trim(f.col(\"country\")).alias(\"country\"),\n",
    "    f.trim(f.col(\"capital\")).alias(\"capital\"),\n",
    "    f.trim(f.col(\"population\")).alias(\"population\"),\n",
    "    f.trim(f.col(\"id\")).alias(\"id\")                            \n",
    ")"
   ]
  },
  {
   "cell_type": "code",
   "execution_count": 285,
   "id": "65340c9c",
   "metadata": {},
   "outputs": [],
   "source": [
    "# Читаем CSV файл со справочником городов\n",
    "codes_csv_file = '../Countries-Cities/CountryCodes.csv'\n",
    "df_codes = spark.read.option('header', True).csv(codes_csv_file)"
   ]
  },
  {
   "cell_type": "code",
   "execution_count": 286,
   "id": "e812de34",
   "metadata": {},
   "outputs": [],
   "source": [
    "# Подготавливаем датафрейм со странами\n",
    "from pyspark.sql import functions as f\n",
    "countryDf = df_countries.select(\n",
    "    f.trim(f.col(\"CCA3\")).alias(\"CCA3\"),\n",
    "    f.trim(f.col(\"Capital\")).alias(\"Capital\"),\n",
    "    f.trim(f.col(\"Continent\")).alias(\"Continent\"),       \n",
    "    f.expr(\"`Area (sq mi)` * 2.59\").cast(\"decimal(10,4)\").alias(\"Area (km²)\"),\n",
    "    f.trim(f.col(\"Population\")).cast(\"decimal(10,0)\").alias(\"Population\"),        \n",
    "    f.expr(\"`Density (per sq mi)` * 0.3861\").cast(\"decimal(10,4)\").alias(\"Density (per km²)\")                            \n",
    ")"
   ]
  },
  {
   "cell_type": "code",
   "execution_count": 287,
   "id": "7f1ce901",
   "metadata": {},
   "outputs": [],
   "source": [
    "# Подготавливаем датафрейм с городами по странам\n",
    "citiesDf = df_cities.fillna(0).groupBy(\"country\") \\\n",
    "    .agg(f.count(\"city\").alias(\"cities_count\"), f.sum(\"population\").cast(\"decimal\").alias(\"urban_population\"))"
   ]
  },
  {
   "cell_type": "code",
   "execution_count": 302,
   "id": "6ae78bcf",
   "metadata": {},
   "outputs": [],
   "source": [
    "# Готовим результирующую таблицу\n",
    "resultDf = countryDf \\\n",
    "        .join(df_codes, f.upper(countryDf[\"CCA3\"]) == df_codes[\"code\"], \"left_outer\") \\\n",
    "        .join(citiesDf, df_codes[\"name\"] == citiesDf[\"country\"]) \\\n",
    "        .withColumn(\"nonurban_population\", f.col(\"Population\") - f.col(\"urban_population\")) \\\n",
    "        .drop(\"CCA3\", \"name\")\n"
   ]
  },
  {
   "cell_type": "code",
   "execution_count": 305,
   "id": "470e6f9c",
   "metadata": {},
   "outputs": [
    {
     "data": {
      "text/plain": [
       "234"
      ]
     },
     "execution_count": 305,
     "metadata": {},
     "output_type": "execute_result"
    }
   ],
   "source": [
    "df_countries.count()"
   ]
  },
  {
   "cell_type": "code",
   "execution_count": null,
   "id": "703ae5ae",
   "metadata": {},
   "outputs": [],
   "source": [
    "resultDf.write.save('../Countries-Cities/result.csv', format='csv')"
   ]
  },
  {
   "cell_type": "code",
   "execution_count": null,
   "id": "401c1026",
   "metadata": {},
   "outputs": [],
   "source": [
    "spark.stop()"
   ]
  },
  {
   "cell_type": "code",
   "execution_count": null,
   "id": "40a207a5",
   "metadata": {},
   "outputs": [],
   "source": []
  },
  {
   "cell_type": "code",
   "execution_count": null,
   "id": "7baf9b94",
   "metadata": {},
   "outputs": [],
   "source": []
  },
  {
   "cell_type": "code",
   "execution_count": null,
   "id": "81bb5cf2",
   "metadata": {},
   "outputs": [],
   "source": []
  },
  {
   "cell_type": "code",
   "execution_count": null,
   "id": "f74fbe2e",
   "metadata": {},
   "outputs": [],
   "source": []
  },
  {
   "cell_type": "code",
   "execution_count": null,
   "id": "48d846ff",
   "metadata": {},
   "outputs": [],
   "source": []
  }
 ],
 "metadata": {
  "kernelspec": {
   "display_name": "Python 3 (ipykernel)",
   "language": "python",
   "name": "python3"
  },
  "language_info": {
   "codemirror_mode": {
    "name": "ipython",
    "version": 3
   },
   "file_extension": ".py",
   "mimetype": "text/x-python",
   "name": "python",
   "nbconvert_exporter": "python",
   "pygments_lexer": "ipython3",
   "version": "3.11.1"
  }
 },
 "nbformat": 4,
 "nbformat_minor": 5
}
