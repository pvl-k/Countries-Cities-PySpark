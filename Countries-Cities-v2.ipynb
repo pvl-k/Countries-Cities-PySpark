{
 "cells": [
  {
   "cell_type": "code",
   "execution_count": 282,
   "id": "65116cc8",
   "metadata": {},
   "outputs": [],
   "source": [
    "# Инициируем сессию\n",
    "from pyspark.sql import SparkSession\n",
    "\n",
    "spark = (SparkSession.builder\n",
    ".master(\"local[*]\")\n",
    ".appName('PySpark_Tutorial')\n",
    ".getOrCreate()\n",
    ")"
   ]
  },
  {
   "cell_type": "code",
   "execution_count": 283,
   "id": "06eb2a16",
   "metadata": {},
   "outputs": [],
   "source": [
    "# Читаем JSON файл со странами \n",
    "countries_json_file = '../Countries-Cities/world_population.json'\n",
    "df_countries = spark.read.option('header', True).json(countries_json_file)"
   ]
  },
  {
   "cell_type": "code",
   "execution_count": 284,
   "id": "81c2c883",
   "metadata": {},
   "outputs": [],
   "source": [
    "# Читаем CSV файл с городами\n",
    "cities_csv_file = '../Countries-Cities/world_cities.csv'\n",
    "df_cities = spark.read.csv(cities_csv_file, header=True, sep=\";\")\n",
    "\n",
    "df_cities = df_cities.select(\n",
    "    f.trim(f.col(\"city_ascii\")).alias(\"city\"),\n",
    "    f.expr(\"lat\").cast(\"decimal(10,4)\").alias(\"lat\"),\n",
    "    f.expr(\"lng\").cast(\"decimal(10,4)\").alias(\"lng\"),\n",
    "    f.trim(f.col(\"country\")).alias(\"country\"),\n",
    "    f.trim(f.col(\"capital\")).alias(\"capital\"),\n",
    "    f.trim(f.col(\"population\")).alias(\"population\"),\n",
    "    f.trim(f.col(\"id\")).alias(\"id\")                            \n",
    ")"
   ]
  },
  {
   "cell_type": "code",
   "execution_count": 285,
   "id": "a4706c81",
   "metadata": {},
   "outputs": [],
   "source": [
    "# Читаем CSV файл со справочником городов\n",
    "codes_csv_file = '../Countries-Cities/CountryCodes.csv'\n",
    "df_codes = spark.read.option('header', True).csv(codes_csv_file)"
   ]
  },
  {
   "cell_type": "code",
   "execution_count": 286,
   "id": "57226e7c",
   "metadata": {},
   "outputs": [],
   "source": [
    "# Подготавливаем датафрейм со странами\n",
    "from pyspark.sql import functions as f\n",
    "countryDf = df_countries.select(\n",
    "    f.trim(f.col(\"CCA3\")).alias(\"CCA3\"),\n",
    "    f.trim(f.col(\"Capital\")).alias(\"Capital\"),\n",
    "    f.trim(f.col(\"Continent\")).alias(\"Continent\"),       \n",
    "    f.expr(\"`Area (sq mi)` * 2.59\").cast(\"decimal(10,4)\").alias(\"Area (km²)\"),\n",
    "    f.trim(f.col(\"Population\")).cast(\"decimal(10,0)\").alias(\"Population\"),        \n",
    "    f.expr(\"`Density (per sq mi)` * 0.3861\").cast(\"decimal(10,4)\").alias(\"Density (per km²)\")                            \n",
    ")"
   ]
  },
  {
   "cell_type": "code",
   "execution_count": 287,
   "id": "42b00094",
   "metadata": {},
   "outputs": [],
   "source": [
    "# Подготавливаем датафрейм с городами по странам\n",
    "citiesDf = df_cities.fillna(0).groupBy(\"country\") \\\n",
    "    .agg(f.count(\"city\").alias(\"cities_count\"), f.sum(\"population\").cast(\"decimal\").alias(\"urban_population\"))"
   ]
  },
  {
   "cell_type": "code",
   "execution_count": 325,
   "id": "137cd39c",
   "metadata": {},
   "outputs": [],
   "source": [
    "# Готовим результирующую таблицу\n",
    "resultDf = countryDf \\\n",
    "        .join(df_codes, f.upper(countryDf[\"CCA3\"]) == df_codes[\"code\"], \"left_outer\") \\\n",
    "        .join(citiesDf, df_codes[\"name\"] == citiesDf[\"country\"], \"left_outer\") \\\n",
    "        .withColumn(\"nonurban_population\", f.col(\"Population\") - f.col(\"urban_population\")) \\\n",
    "        .drop(\"CCA3\", \"name\")"
   ]
  },
  {
   "cell_type": "code",
   "execution_count": 326,
   "id": "a9cdb993",
   "metadata": {},
   "outputs": [],
   "source": [
    "resultDf = resultDf.select(\n",
    "    f.col(\"country\").alias(\"Country\"),\n",
    "    f.col(\"code\").alias(\"Code\"),\n",
    "    f.col(\"Continent\"),\n",
    "    f.col(\"Capital\"),\n",
    "    f.col(\"cities_count\").alias(\"Cities qty.\"),\n",
    "    f.col(\"Area (km²)\"),\n",
    "    f.col(\"Population\"),  \n",
    "    f.col(\"Density (per km²)\"),  \n",
    "    f.col(\"urban_population\").alias(\"Urban pop.\"),\n",
    "    f.col(\"nonurban_population\").alias(\"Nonurban pop.\")\n",
    ")"
   ]
  },
  {
   "cell_type": "code",
   "execution_count": 327,
   "id": "8509c7b3",
   "metadata": {},
   "outputs": [
    {
     "name": "stdout",
     "output_type": "stream",
     "text": [
      "root\n",
      " |-- Country: string (nullable = true)\n",
      " |-- Code: string (nullable = true)\n",
      " |-- Continent: string (nullable = true)\n",
      " |-- Capital: string (nullable = true)\n",
      " |-- Cities qty.: long (nullable = true)\n",
      " |-- Area (km²): decimal(10,4) (nullable = true)\n",
      " |-- Population: decimal(10,0) (nullable = true)\n",
      " |-- Density (per km²): decimal(10,4) (nullable = true)\n",
      " |-- Urban pop.: decimal(10,0) (nullable = true)\n",
      " |-- Nonurban pop.: decimal(11,0) (nullable = true)\n",
      "\n"
     ]
    }
   ],
   "source": [
    "resultDf.printSchema()"
   ]
  },
  {
   "cell_type": "code",
   "execution_count": 328,
   "id": "3d4832ca",
   "metadata": {},
   "outputs": [
    {
     "name": "stdout",
     "output_type": "stream",
     "text": [
      "True\n"
     ]
    }
   ],
   "source": [
    "# Проверка количества стран на выходе\n",
    "print(resultDf.count() == df_countries.count())"
   ]
  },
  {
   "cell_type": "code",
   "execution_count": 330,
   "id": "7bf6dd0b",
   "metadata": {},
   "outputs": [],
   "source": [
    "resultDf.write.save('../Countries-Cities/result.csv', format='csv', mode='overwrite')"
   ]
  },
  {
   "cell_type": "code",
   "execution_count": 331,
   "id": "7e80c0d3",
   "metadata": {},
   "outputs": [],
   "source": [
    "spark.stop()"
   ]
  },
  {
   "cell_type": "code",
   "execution_count": null,
   "id": "fa99e597",
   "metadata": {},
   "outputs": [],
   "source": []
  },
  {
   "cell_type": "code",
   "execution_count": null,
   "id": "a220e7b3",
   "metadata": {},
   "outputs": [],
   "source": []
  },
  {
   "cell_type": "code",
   "execution_count": null,
   "id": "aa2c42fe",
   "metadata": {},
   "outputs": [],
   "source": []
  },
  {
   "cell_type": "code",
   "execution_count": null,
   "id": "5385a775",
   "metadata": {},
   "outputs": [],
   "source": []
  },
  {
   "cell_type": "code",
   "execution_count": null,
   "id": "ce478f0b",
   "metadata": {},
   "outputs": [],
   "source": []
  }
 ],
 "metadata": {
  "kernelspec": {
   "display_name": "Python 3 (ipykernel)",
   "language": "python",
   "name": "python3"
  },
  "language_info": {
   "codemirror_mode": {
    "name": "ipython",
    "version": 3
   },
   "file_extension": ".py",
   "mimetype": "text/x-python",
   "name": "python",
   "nbconvert_exporter": "python",
   "pygments_lexer": "ipython3",
   "version": "3.11.1"
  }
 },
 "nbformat": 4,
 "nbformat_minor": 5
}
